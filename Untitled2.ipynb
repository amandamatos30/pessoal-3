{
  "nbformat": 4,
  "nbformat_minor": 0,
  "metadata": {
    "colab": {
      "provenance": []
    },
    "kernelspec": {
      "name": "python3",
      "display_name": "Python 3"
    },
    "language_info": {
      "name": "python"
    }
  },
  "cells": [
    {
      "cell_type": "code",
      "source": [
        "nome = input(\"Escreva seu nome: \")\n",
        "\n",
        "resposta = input(f\"Olá, {nome}. Fico muito feliz em te ver por aqui. Topa jogar comigo? Lembrando que caso você erre alguma alternativa, este jogo deverá ser reprocessado. Agora Digite >sim< para continuar: \")\n",
        "\n",
        "if resposta.lower() == \"sim\":\n",
        "    pergunta1 = input(\"O que é, o que é? É verde, adubado organicamente e convive com um monte de cachorro? Digite apenas a letra da alternativa correta:\\na) Alface de Telêmaco\\nb) M4conha Cearense\\nResposta: \")\n",
        "    if pergunta1.lower() == \"a\":\n",
        "        pergunta2 = input(\"Zaeli está presente em todos os estados do Brasil? Digite apenas a letra da alternativa correta:\\na) Não\")\n",
        "        if pergunta2.lower() == \"a\":\n",
        "            pergunta3 = input(\"Em uma escala de 10/10, o quanto você está apaixonada por mim? Digite apenas a letra da alternativa correta:\\na) 10\\nResposta: \")\n",
        "            if pergunta3.lower() == \"a\":\n",
        "                print(\"Capaz! Tu é o que da Xuxa pra tá tão apaixonadinha? Hahaha eh........ kkkkkkkkk Você chegou no final do jogo. Clique aqui para receber um beijinho: https://drive.google.com/file/d/1oqlpkpbbxt2vt6m8WtVU7OXICp-G-7Hj/view?usp=share_link\")\n",
        "\n",
        "\n",
        "                # aqui deveria ter o código para exibir o vídeo salvo no drive, mas não é possível implementar isso no Google Colab.\n",
        "            else:\n",
        "                print(\"Resposta incorreta. Você não merece um beijinho. Tente novamente.\")\n",
        "        else:\n",
        "            print(\"Resposta incorreta. Você não merece um beijinho. Tente novamente.\")\n",
        "    else:\n",
        "        print(\"Resposta incorreta. Você não merece um beijinho. Tente novamente.\")\n",
        "else:\n",
        "    print(\"Você não está fazendo uma boa escolha. Volte e escolha 'sim' para jogar.\") \n"
      ],
      "metadata": {
        "colab": {
          "base_uri": "https://localhost:8080/"
        },
        "id": "ILXQC8VjrDsj",
        "outputId": "33175b37-b591-4527-b704-aac9c2842162"
      },
      "execution_count": 2,
      "outputs": [
        {
          "output_type": "stream",
          "name": "stdout",
          "text": [
            "Escreva seu nome: Raquel\n",
            "Olá, Raquel. Fico muito feliz em te ver por aqui. Topa jogar comigo? Lembrando que caso você erre alguma alternativa, este jogo deverá ser reprocessado. Agora Digite >sim< para continuar: sim\n",
            "O que é, o que é? É verde, adubado organicamente e convive com um monte de cachorro? Digite apenas a letra da alternativa correta:\n",
            "a) Alface de Telêmaco\n",
            "b) M4conha Cearense\n",
            "Resposta: a\n",
            "Zaeli está presente em todos os estados do Brasil? Digite apenas a letra da alternativa correta:\n",
            "a) Nãoa\n",
            "Em uma escala de 10/10, o quanto você está apaixonada por mim? Digite apenas a letra da alternativa correta:\n",
            "a) 10\n",
            "Resposta: a\n",
            "Capaz! Tu é o que da Xuxa pra tá tão apaixonadinha? Hahaha eh........ kkkkkkkkk Você chegou no final do jogo. Clique aqui para receber um beijinho: https://drive.google.com/file/d/1oqlpkpbbxt2vt6m8WtVU7OXICp-G-7Hj/view?usp=share_link\n"
          ]
        }
      ]
    }
  ]
}